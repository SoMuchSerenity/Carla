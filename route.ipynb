{
 "cells": [
  {
   "cell_type": "code",
   "execution_count": 1,
   "id": "fb148c98-ec94-466b-8a2b-6b4b298498af",
   "metadata": {},
   "outputs": [],
   "source": [
    "import carla\n",
    "import random\n",
    "import time\n",
    "import os\n",
    "from queue import Queue\n",
    "import networkx as nx\n",
    "import math\n",
    "import re"
   ]
  },
  {
   "cell_type": "code",
   "execution_count": 15,
   "id": "905a261f-6967-43c1-ad99-dd5a069dbc47",
   "metadata": {},
   "outputs": [
    {
     "name": "stdout",
     "output_type": "stream",
     "text": [
      "['/Game/Carla/Maps/Town01', '/Game/Carla/Maps/Town01_Opt', '/Game/Carla/Maps/Town02', '/Game/Carla/Maps/Town02_Opt', '/Game/Carla/Maps/Town03', '/Game/Carla/Maps/Town03_Opt', '/Game/Carla/Maps/Town04', '/Game/Carla/Maps/Town04_Opt', '/Game/Carla/Maps/Town05', '/Game/Carla/Maps/Town05_Opt', '/Game/Carla/Maps/Town10HD', '/Game/Carla/Maps/Town10HD_Opt']\n"
     ]
    }
   ],
   "source": [
    "client = carla.Client('localhost', 2000)\n",
    "# Set timeout to limit the networking operations so that the these don't block the client forever.\n",
    "# An error will be returned if connection fails.\n",
    "client.set_timeout(5.0)\n",
    "# Available maps are Town 01,02,03,04,05,06,07,10\n",
    "#    world = client.get_world()\n",
    "print(client.get_available_maps())\n",
    "#    world = client.get_world()\n",
    "world = client.load_world('Town01')\n",
    "\n",
    "# settings = world.get_settings()\n",
    "# settings.no_rendering_mode = True\n",
    "# world.apply_settings(settings)"
   ]
  },
  {
   "cell_type": "code",
   "execution_count": 4,
   "id": "b49edc46-0c49-4910-962e-ab51194da58e",
   "metadata": {},
   "outputs": [],
   "source": [
    "actor_list = []\n",
    "sensor_list = []\n",
    "blueprint_library = world.get_blueprint_library()\n",
    "vehicle_bp = blueprint_library.find('vehicle.audi.tt')\n",
    "vehicle_bp.set_attribute('role_name', 'ego')\n",
    "spawn_point = random.choice(world.get_map().get_spawn_points())\n",
    "vehicle = world.spawn_actor(vehicle_bp, spawn_point)\n",
    "actor_list.append(vehicle)\n",
    "spectator = world.get_spectator()\n",
    "spectator.set_transform(vehicle.get_transform())"
   ]
  },
  {
   "cell_type": "code",
   "execution_count": 5,
   "id": "52af6709-936c-456c-9966-4742553325c9",
   "metadata": {},
   "outputs": [
    {
     "name": "stdout",
     "output_type": "stream",
     "text": [
      "Current lane type: Driving\n",
      "Current Lane change:  NONE\n",
      "L lane marking type: Broken\n",
      "L lane marking change: NONE\n",
      "R lane marking type: NONE\n",
      "R lane marking change: NONE\n"
     ]
    }
   ],
   "source": [
    "waypoint = world.get_map().get_waypoint(vehicle.get_location(),project_to_road=True, lane_type=(carla.LaneType.Driving | carla.LaneType.Shoulder | carla.LaneType.Sidewalk))\n",
    "print(\"Current lane type: \" + str(waypoint.lane_type))\n",
    "# Check current lane change allowed\n",
    "print(\"Current Lane change:  \" + str(waypoint.lane_change))\n",
    "# Left and Right lane markings\n",
    "print(\"L lane marking type: \" + str(waypoint.left_lane_marking.type))\n",
    "print(\"L lane marking change: \" + str(waypoint.left_lane_marking.lane_change))\n",
    "print(\"R lane marking type: \" + str(waypoint.right_lane_marking.type))\n",
    "print(\"R lane marking change: \" + str(waypoint.right_lane_marking.lane_change))\n",
    "# ..."
   ]
  },
  {
   "cell_type": "code",
   "execution_count": 3,
   "id": "e5131718-332b-46c1-b940-7fa594e76d90",
   "metadata": {},
   "outputs": [],
   "source": [
    "spawn_points = world.get_map().get_spawn_points()"
   ]
  },
  {
   "cell_type": "code",
   "execution_count": 4,
   "id": "22b59808-28a4-44ee-aa70-f2d78e01477a",
   "metadata": {},
   "outputs": [],
   "source": [
    "_map = world.get_map()"
   ]
  },
  {
   "cell_type": "code",
   "execution_count": 5,
   "id": "5c2bbc3f-544f-45fb-8d28-01af24af1232",
   "metadata": {},
   "outputs": [],
   "source": [
    "positive_direction = []\n",
    "for i in range(len(spawn_points)):\n",
    "    if _map.get_waypoint(spawn_points[i].location).lane_id > 0:\n",
    "        positive_direction.append(spawn_points[i])"
   ]
  },
  {
   "cell_type": "code",
   "execution_count": 6,
   "id": "7317956a-56ad-447b-8a73-5b0763a70b7b",
   "metadata": {},
   "outputs": [],
   "source": [
    "start = positive_direction[4]\n",
    "end = positive_direction[20]"
   ]
  },
  {
   "cell_type": "code",
   "execution_count": 7,
   "id": "2e5a287a-3ffe-424c-94d0-8b0d377e7777",
   "metadata": {},
   "outputs": [],
   "source": [
    "topology = world.get_map().get_topology()\n",
    "G = nx.DiGraph() # undirected graph does not work "
   ]
  },
  {
   "cell_type": "code",
   "execution_count": 8,
   "id": "2d283150-ba3b-47f1-ba94-7eeffd3c3dbe",
   "metadata": {
    "tags": []
   },
   "outputs": [],
   "source": [
    "waypoints_info = {}\n",
    "for i in range(len(topology)):\n",
    "    waypoint1 = topology[i][0]\n",
    "    waypoint2 = topology[i][1]\n",
    "    waypoint1_info = \"%s-%s-%s\" % (waypoint1.road_id, waypoint1.section_id, waypoint1.lane_id)\n",
    "    waypoint2_info = \"%s-%s-%s\" % (waypoint2.road_id, waypoint2.section_id, waypoint2.lane_id)\n",
    "    distance = math.sqrt(math.pow((waypoint2.transform.location.x - waypoint1.transform.location.x), 2) +\n",
    "                                 math.pow((waypoint2.transform.location.y - waypoint1.transform.location.y), 2))\n",
    "    # G.add_edge(waypoint1_info, waypoint2_info)\n",
    "    waypoints_info[waypoint1_info] = waypoint1\n",
    "    G.add_weighted_edges_from([(waypoint1_info, waypoint2_info, distance)])"
   ]
  },
  {
   "cell_type": "code",
   "execution_count": 9,
   "id": "cbace187-e2ed-436a-8bc4-e2ec1cebb101",
   "metadata": {},
   "outputs": [
    {
     "name": "stdout",
     "output_type": "stream",
     "text": [
      "['10-0-1', '341-0-1', '25-0-1', '75-0-1', '1-0-1', '27-0-1', '16-0--1', '243-0--1', '17-0--1', '296-0--1', '18-0--1', '218-0--1', '19-0--1', '169-0--1', '6-0-1']\n"
     ]
    }
   ],
   "source": [
    "start_waypoint = _map.get_waypoint(start.location)\n",
    "start_info = \"%s-%s-%s\" % (start_waypoint.road_id, start_waypoint.section_id, start_waypoint.lane_id)\n",
    "end_waypoint = _map.get_waypoint(end.location)\n",
    "end_info = \"%s-%s-%s\" % (end_waypoint.road_id, end_waypoint.section_id, end_waypoint.lane_id)\n",
    "path = nx.astar_path(G, start_info, end_info)\n",
    "print(path)"
   ]
  },
  {
   "cell_type": "code",
   "execution_count": null,
   "id": "4be3e1d0-1418-4903-adee-aba994614b5a",
   "metadata": {},
   "outputs": [],
   "source": [
    "RouteList = []\n",
    "#    list_to_end = start_waypoint.next_until_lane_end(0.5)\n",
    "#     for j in range(len(list_to_end)):\n",
    "#         temp_waypoint = list_to_end[j]\n",
    "#         temp_loc = temp_waypoint.transform.location\n",
    "#         RouteList.append(temp_loc)\n",
    "\n",
    "for i in range(len(path)):\n",
    "    _waypoint = waypoints_info[path[i]]\n",
    "    list_to_end = _waypoint.next_until_lane_end(0.5)\n",
    "#        world.debug.draw_string(_waypoint.transform.location, '%f' % _waypoint.lane_width, draw_shadow=False,\n",
    "#                                color=carla.Color(r=255, g=0, b=0), life_time=100.0)\n",
    "\n",
    "    "
   ]
  },
  {
   "cell_type": "code",
   "execution_count": null,
   "id": "70bc8dba-0434-4582-9018-03b0fe3ff8a6",
   "metadata": {},
   "outputs": [],
   "source": [
    "    for j in range(1,len(list_to_end)):\n",
    "        temp_waypoint = list_to_end[j]\n",
    "        temp_loc = temp_waypoint.transform.location\n",
    "#            RouteList.append(temp_loc)\n",
    "#            world.debug.draw_string(temp_loc, '%f' % temp_waypoint.transform.rotation.yaw, draw_shadow=False,\n",
    "#                                color=carla.Color(r=0, g=255, b=0), life_time=100.0)\n",
    "#        time.sleep(5)\n",
    "#    return RouteList, path"
   ]
  },
  {
   "cell_type": "code",
   "execution_count": 29,
   "id": "640da284-c64f-4dad-a042-80e167506b03",
   "metadata": {},
   "outputs": [
    {
     "data": {
      "text/plain": [
       "341"
      ]
     },
     "execution_count": 29,
     "metadata": {},
     "output_type": "execute_result"
    }
   ],
   "source": [
    "print(waypoints_info[path[1]].road_id,waypoints_info[path[1]].lane_id,waypoints_info[path[1]].lane_id)"
   ]
  },
  {
   "cell_type": "code",
   "execution_count": 16,
   "id": "02d29aaf-d779-4afa-97c1-88fd1678587c",
   "metadata": {},
   "outputs": [],
   "source": [
    "def generate_routelist(start, end, G, waypoints_info, _map):\n",
    "    start_waypoint = _map.get_waypoint(start.location)\n",
    "    start_info = \"%s-%s-%s\" % (start_waypoint.road_id, start_waypoint.section_id, start_waypoint.lane_id)\n",
    "    end_waypoint = _map.get_waypoint(end.location)\n",
    "    end_info = \"%s-%s-%s\" % (end_waypoint.road_id, end_waypoint.section_id, end_waypoint.lane_id)\n",
    "    path = nx.astar_path(G, start_info, end_info)\n",
    "    print(path)\n",
    "    RouteList = []\n",
    "#    list_to_end = start_waypoint.next_until_lane_end(0.5)\n",
    "#     for j in range(len(list_to_end)):\n",
    "#         temp_waypoint = list_to_end[j]\n",
    "#         temp_loc = temp_waypoint.transform.location\n",
    "#         RouteList.append(temp_loc)\n",
    "    \n",
    "    for i in range(len(path)):\n",
    "        _waypoint = waypoints_info[path[i]]\n",
    "        list_to_end = _waypoint.next_until_lane_end(0.5)\n",
    "        world.debug.draw_string(_waypoint.transform.location, '%s-%s-%s' % (_waypoint.road_id,_waypoint.section_id, _waypoint.lane_id), draw_shadow=False,\n",
    "                                color=carla.Color(r=255, g=0, b=0), life_time=100.0)\n",
    "\n",
    "#         for j in range(1,len(list_to_end)):\n",
    "#             temp_waypoint = list_to_end[j]\n",
    "#             temp_loc = temp_waypoint.transform.location\n",
    "#             RouteList.append(temp_loc)\n",
    "#             world.debug.draw_string(temp_loc, '%s-%s-%s' % (temp_waypoint.road_id,temp_waypoint.section_id, temp_waypoint.lane_id), draw_shadow=False,\n",
    "#                                color=carla.Color(r=0, g=255, b=0), life_time=100.0)\n",
    "        time.sleep(3)\n",
    "#    return RouteList, path"
   ]
  },
  {
   "cell_type": "code",
   "execution_count": 17,
   "id": "d2e23006-50db-4280-9ccc-6ab956986f30",
   "metadata": {},
   "outputs": [
    {
     "name": "stdout",
     "output_type": "stream",
     "text": [
      "['10-0-1', '341-0-1', '25-0-1', '75-0-1', '1-0-1', '27-0-1', '16-0--1', '243-0--1', '17-0--1', '296-0--1', '18-0--1', '218-0--1', '19-0--1', '169-0--1', '6-0-1']\n"
     ]
    }
   ],
   "source": [
    "generate_routelist(start, end, G, waypoints_info, _map)"
   ]
  },
  {
   "cell_type": "code",
   "execution_count": 35,
   "id": "5eb5efbf-4e8d-4247-a8d4-a33fec0f5864",
   "metadata": {},
   "outputs": [
    {
     "name": "stdout",
     "output_type": "stream",
     "text": [
      "['19-0--1', '218-0--1', '18-0--1', '296-0--1', '17-0--1', '243-0--1', '16-0--1', '253-0--1', '10-0-1', '232-0-1', '17-0-1']\n"
     ]
    }
   ],
   "source": [
    "route, path= generate_routelist(start, end, G, waypoints_info, _map)"
   ]
  },
  {
   "cell_type": "code",
   "execution_count": 32,
   "id": "49dda617-d3f9-42c2-a65e-6890442d64f8",
   "metadata": {},
   "outputs": [],
   "source": [
    "for wp in path:\n",
    "    world.debug.draw_string(wp, 'O', draw_shadow=False,\n",
    "                            color=carla.Color(r=0, g=255, b=0), life_time=50.0)\n",
    "    "
   ]
  },
  {
   "cell_type": "code",
   "execution_count": 38,
   "id": "a334f55b-316d-4107-98bd-2346d1db96ea",
   "metadata": {},
   "outputs": [],
   "source": [
    "def draw_waypoints(waypoints, path, life_time=0):\n",
    "    for wp in waypoints:\n",
    "        for pa in path:\n",
    "            road_id = eval(re.split('[-]+',pa)[0])\n",
    "            section_id = eval(re.split('[-]+',pa)[1])\n",
    "            lane_id = eval(re.split('[-]+',pa)[2])\n",
    "            if(wp.road_id == road_id and wp.section_id == section_id and wp.lane_id == lane_id):\n",
    "                world.debug.draw_string(wp.transform.location, 'O', draw_shadow=False,\n",
    "                                   color=carla.Color(r=0, g=255, b=0), life_time=life_time)\n",
    "                break "
   ]
  },
  {
   "cell_type": "code",
   "execution_count": 39,
   "id": "a9d1b1ea-93de-43e3-8437-b634074b4a3b",
   "metadata": {},
   "outputs": [],
   "source": [
    "draw_waypoints(waypoints,path,50)"
   ]
  },
  {
   "cell_type": "code",
   "execution_count": null,
   "id": "b65af3cf-98e2-46e6-9b53-45361e95da49",
   "metadata": {},
   "outputs": [],
   "source": [
    "current_w = map.get_waypoint(vehicle.get_location())\n",
    "while True:\n",
    "\n",
    "    next_w = map.get_waypoint(vehicle.get_location(), lane_type=carla.LaneType.Driving | carla.LaneType.Shoulder | carla.LaneType.Sidewalk )\n",
    "    # Check if the vehicle is moving\n",
    "    if next_w.id != current_w.id:\n",
    "        vector = vehicle.get_velocity()\n",
    "        # Check if the vehicle is on a sidewalk\n",
    "        if current_w.lane_type == carla.LaneType.Sidewalk:\n",
    "            draw_waypoint_union(debug, current_w, next_w, cyan if current_w.is_junction else red, 60)\n",
    "        else:\n",
    "            draw_waypoint_union(debug, current_w, next_w, cyan if current_w.is_junction else green, 60)\n",
    "        debug.draw_string(current_w.transform.location, str('%15.0f km/h' % (3.6 * math.sqrt(vector.x**2 + vector.y**2 + vector.z**2))), False, orange, 60)\n",
    "        draw_transform(debug, current_w.transform, white, 60)\n",
    "\n",
    "    # Update the current waypoint and sleep for some time\n",
    "    current_w = next_w\n",
    "    time.sleep(args.tick_time)"
   ]
  }
 ],
 "metadata": {
  "kernelspec": {
   "display_name": "carla",
   "language": "python",
   "name": "carla"
  },
  "language_info": {
   "codemirror_mode": {
    "name": "ipython",
    "version": 3
   },
   "file_extension": ".py",
   "mimetype": "text/x-python",
   "name": "python",
   "nbconvert_exporter": "python",
   "pygments_lexer": "ipython3",
   "version": "3.8.13"
  }
 },
 "nbformat": 4,
 "nbformat_minor": 5
}
