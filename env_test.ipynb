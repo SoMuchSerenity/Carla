{
 "cells": [
  {
   "cell_type": "code",
   "execution_count": 30,
   "id": "22268c07-7689-42d1-b958-9cec304723c1",
   "metadata": {},
   "outputs": [],
   "source": [
    "import carla\n",
    "import os\n",
    "import numpy as np\n",
    "import cv2\n",
    "import math\n",
    "from gym.spaces import Dict, Discrete, Box\n",
    "import gym\n",
    "from stable_baselines3 import PPO\n",
    "from stable_baselines3.common.policies import ActorCriticPolicy\n",
    "import networkx as nx\n",
    "import random\n",
    "from stable_baselines3.common.env_checker import check_env\n",
    "import time\n",
    "import torch.nn as nn\n",
    "import torchvision.models as model\n",
    "import torch as th\n",
    "from stable_baselines3.common.evaluation import evaluate_policy\n",
    "from stable_baselines3.common.torch_layers import BaseFeaturesExtractor\n",
    "from stable_baselines3.common.monitor import Monitor\n",
    "\n",
    "class CarEnv(gym.Env):\n",
    "    def __init__(self):\n",
    "        super(CarEnv, self).__init__()\n",
    "\n",
    "        self.client = carla.Client('localhost', 2000)\n",
    "        self.client.set_timeout(10.0)\n",
    "        self.world = self.client.load_world('Town01')\n",
    "        self.blueprint_library = self.world.get_blueprint_library()\n",
    "        self.image = Box(low=0, high=255, shape=(224, 224, 3), dtype=np.uint8)\n",
    "        self.status = Box(low=np.array([0.0, -1.0],dtype=np.float32), high=np.array([1.0, 1.0],dtype=np.float32))\n",
    "        self.observation_space = Dict({\"image\": self.image, \"status\": self.status})\n",
    "        self.action_space = Box(low=-1.0, high=1.0, shape=(2,), dtype=np.float32)\n",
    "        self.spawn_points = self.world.get_map().get_spawn_points()\n",
    "        self._map = self.world.get_map()\n",
    "        self.positive_points = []\n",
    "        self.actor_list = []\n",
    "        for i in range(len(self.spawn_points)):\n",
    "            if self._map.get_waypoint(self.spawn_points[i].location).lane_id > 0:\n",
    "                self.positive_points.append(self.spawn_points[i])\n",
    "        self.topology = self._map.get_topology()\n",
    "        \n",
    "        self.waypoints_info = {}\n",
    "        self.G = nx.DiGraph()  \n",
    "        for i in range(len(self.topology)):\n",
    "            waypoint1 = self.topology[i][0]\n",
    "            waypoint2 = self.topology[i][1]\n",
    "            waypoint1_info = \"%s-%s-%s\" % (waypoint1.road_id, waypoint1.section_id, waypoint1.lane_id)\n",
    "            waypoint2_info = \"%s-%s-%s\" % (waypoint2.road_id, waypoint2.section_id, waypoint2.lane_id)\n",
    "            distance = math.sqrt(math.pow((waypoint2.transform.location.x - waypoint1.transform.location.x), 2) +\n",
    "                                         math.pow((waypoint2.transform.location.y - waypoint1.transform.location.y), 2))\n",
    "\n",
    "            self.waypoints_info[waypoint1_info] = waypoint1\n",
    "            self.G.add_weighted_edges_from([(waypoint1_info, waypoint2_info, distance)])\n",
    "        \n",
    "        start, end = self.generate_route()\n",
    "        self.path = self.generate_route_info(start, end)\n",
    "        \n",
    "        \n",
    "        self.collision_hist = []\n",
    "        self.lane_hist = []\n",
    "        \n",
    "        self.vehicle_bp = self.blueprint_library.find('vehicle.audi.tt')\n",
    "        self.vehicle = self.world.spawn_actor(self.vehicle_bp, start)\n",
    "        self.vehicle.apply_control(carla.VehicleControl(throttle=0.0, steer=0.0, brake=0.0))\n",
    "        self.actor_list.append(self.vehicle)\n",
    "\n",
    "        self.col_bp = self.blueprint_library.find('sensor.other.collision')\n",
    "        self.col_location = carla.Location(0, 0, 0)\n",
    "        self.col_transform = carla.Transform(self.col_location)\n",
    "        self.colsensor = self.world.spawn_actor(self.col_bp, self.col_transform, attach_to=self.vehicle)\n",
    "        self.actor_list.append(self.colsensor)\n",
    "        self.colsensor.listen(lambda event: self.collision(event))\n",
    "\n",
    "        self.cam_bp = self.blueprint_library.find('sensor.camera.rgb')\n",
    "        self.cam_bp.set_attribute(\"image_size_x\", str(224))\n",
    "        self.cam_bp.set_attribute(\"image_size_y\", str(224))\n",
    "        self.cam_bp.set_attribute(\"fov\", str(105))\n",
    "        self.cam_location = carla.Location(0.8, 0, 1.7)\n",
    "        self.cam_transform = carla.Transform(self.cam_location)\n",
    "        self.cam_rgb = self.world.spawn_actor(self.cam_bp, self.cam_transform, attach_to=self.vehicle,\n",
    "                                              attachment_type=carla.AttachmentType.Rigid)\n",
    "        self.actor_list.append(self.cam_rgb)\n",
    "#         if not os.path.exists(os.path.join(os.getcwd(), 'Data/RGB')):\n",
    "#             os.makedirs(os.path.join(os.getcwd(), 'Data/RGB'))\n",
    "        self.cam_rgb.listen(lambda image: self.img_process(image))\n",
    "    \n",
    "        self.lane = None\n",
    "        self.lane_bp = self.world.get_blueprint_library().find('sensor.other.lane_invasion')\n",
    "        self.lane_location = carla.Location(0, 0, 0)\n",
    "        self.lane_transform = carla.Transform(self.lane_location)\n",
    "        self.lane_sensor = self.world.spawn_actor(self.lane_bp, self.lane_transform, attach_to=self.vehicle,\n",
    "                                 attachment_type=carla.AttachmentType.Rigid)\n",
    "        self.lane_sensor.listen(lambda lane: self.lane_callback(lane))\n",
    "        self.actor_list.append(self.lane_sensor)\n",
    "        \n",
    "        self.cur_loc = self.vehicle.get_transform().location\n",
    "        self.tar_waypoint = self.waypoints_info[self.path[1]]\n",
    "        self.tar_dis = self.tar_waypoint.transform.location.distance(self.cur_loc)\n",
    " #       self.n = 0\n",
    "        spectator = self.world.get_spectator()\n",
    "        spectator.set_transform(carla.Transform(self.vehicle.get_transform().location + carla.Location(x=0,y=0,z=2),\n",
    "                                            self.vehicle.get_transform().rotation))\n",
    "        \n",
    "#         spectator = self.world.get_spectator()\n",
    "#         spectator.set_transform(self.vehicle.get_transform())\n",
    "#         cur_waypoint = self._map.get_waypoint(self.cur_loc, project_to_road=False)\n",
    "#         self.world.debug.draw_string(start.location, 'Start', \n",
    "#                                      draw_shadow=False, color=carla.Color(r=0, g=255, b=0), life_time=100.0)\n",
    "#         self.world.debug.draw_string(self.cur_loc, 'Current' ,\n",
    "#                                      draw_shadow=False, color=carla.Color(r=255, g=0, b=0), life_time=100.0)\n",
    "#         self.world.debug.draw_string(self.waypoints_info[self.path[0]].transform.location, '%s-%s-%s' \n",
    "#                                      % (self.waypoints_info[self.path[0]].road_id,self.waypoints_info[self.path[0]].section_id, \n",
    "#                                         self.waypoints_info[self.path[0]].lane_id), \n",
    "#                                      draw_shadow=False, color=carla.Color(r=0, g=0, b=255), life_time=100.0)\n",
    "#         self.world.debug.draw_string(self.waypoints_info[self.path[1]].transform.location, '%s-%s-%s' \n",
    "#                                      % (self.waypoints_info[self.path[1]].road_id,self.waypoints_info[self.path[1]].section_id, \n",
    "#                                         self.waypoints_info[self.path[1]].lane_id), \n",
    "#                                      draw_shadow=False, color=carla.Color(r=0, g=0, b=255), life_time=100.0)\n",
    "        \n",
    "    def img_process(self,image):\n",
    "        \"\"\"\n",
    "\n",
    "        :param image:\n",
    "        \"\"\"\n",
    "        data = np.array(image.raw_data)\n",
    "        data = data.reshape((224, 224, 4))\n",
    "        data = data[:, :, :3]\n",
    "        self.front_camera = data\n",
    "        return data/255.0\n",
    "\n",
    "    def collision(self, event):\n",
    "        self.collision_hist.append(event)\n",
    "\n",
    "    def lane_callback(self, lane):\n",
    "        lane_types = set(x.type for x in lane.crossed_lane_markings)\n",
    "        self.lane = eval(['%r' % str(x).split()[-1] for x in lane_types][0])\n",
    "        self.lane_hist.append(self.lane)\n",
    "    \n",
    "    def generate_route_info(self, start, end):\n",
    "        start_waypoint = self._map.get_waypoint(start.location)\n",
    "        start_info = \"%s-%s-%s\" % (start_waypoint.road_id, start_waypoint.section_id, start_waypoint.lane_id)\n",
    "        end_waypoint = self._map.get_waypoint(end.location)\n",
    "        end_info = \"%s-%s-%s\" % (end_waypoint.road_id, end_waypoint.section_id, end_waypoint.lane_id)\n",
    "        return nx.astar_path(self.G, start_info, end_info)\n",
    "    \n",
    "    def generate_route(self):\n",
    "        start = self.positive_points[random.sample(range(len(self.positive_points)),2)[0]]\n",
    "        end = self.positive_points[random.sample(range(len(self.positive_points)),2)[1]]\n",
    "        start_waypoint = self._map.get_waypoint(start.location)\n",
    "        start_info = \"%s-%s-%s\" % (start_waypoint.road_id, start_waypoint.section_id, start_waypoint.lane_id)\n",
    "        end_waypoint = self._map.get_waypoint(end.location)\n",
    "        end_info = \"%s-%s-%s\" % (end_waypoint.road_id, end_waypoint.section_id, end_waypoint.lane_id)\n",
    "        while start_info == end_info:\n",
    "            start = self.positive_points[random.sample(range(len(self.positive_points)),2)[0]]\n",
    "            end = self.positive_points[random.sample(range(len(self.positive_points)),2)[1]]\n",
    "            start_waypoint = self._map.get_waypoint(start.location)\n",
    "            start_info = \"%s-%s-%s\" % (start_waypoint.road_id, start_waypoint.section_id, start_waypoint.lane_id)\n",
    "            end_waypoint = self._map.get_waypoint(end.location)\n",
    "            end_info = \"%s-%s-%s\" % (end_waypoint.road_id, end_waypoint.section_id, end_waypoint.lane_id)\n",
    "\n",
    "        return start, end\n",
    "            \n",
    "    def reset(self):\n",
    "#        self.n = 0\n",
    "        \n",
    "        self.world = self.client.reload_world(reset_settings = False)\n",
    "        \n",
    "        self.actor_list = []\n",
    "        self.collision_hist = []\n",
    "        self.lane_hist = []\n",
    "        \n",
    "        start, end = self.generate_route()\n",
    "        self.path = self.generate_route_info(start, end)\n",
    "        \n",
    "        self.vehicle = self.world.spawn_actor(self.vehicle_bp, start)\n",
    "        self.vehicle.apply_control(carla.VehicleControl(throttle=0.0, steer=0.0, brake=0.0))\n",
    "        self.actor_list.append(self.vehicle)\n",
    "        \n",
    "        self.colsensor = self.world.spawn_actor(self.col_bp, self.col_transform, attach_to=self.vehicle)\n",
    "        self.actor_list.append(self.colsensor)\n",
    "        self.colsensor.listen(lambda event: self.collision(event))\n",
    "        \n",
    "        self.cam_rgb = self.world.spawn_actor(self.cam_bp, self.cam_transform, attach_to=self.vehicle,\n",
    "                                              attachment_type=carla.AttachmentType.Rigid)\n",
    "        self.actor_list.append(self.cam_rgb)\n",
    "        \n",
    "        self.cam_rgb.listen(lambda image: self.img_process(image))\n",
    "        \n",
    "        self.lane = None\n",
    "        self.lane_sensor = self.world.spawn_actor(self.lane_bp, self.lane_transform, attach_to=self.vehicle,\n",
    "                                 attachment_type=carla.AttachmentType.Rigid)\n",
    "        self.lane_sensor.listen(lambda lane: self.lane_callback(lane))\n",
    "        self.actor_list.append(self.lane_sensor)\n",
    "        \n",
    "        self.cur_loc = self.vehicle.get_transform().location\n",
    "        self.tar_waypoint = self.waypoints_info[self.path[1]]\n",
    "        self.tar_dis = self.tar_waypoint.transform.location.distance(self.cur_loc)\n",
    "        \n",
    "        spectator = self.world.get_spectator()\n",
    "        spectator.set_transform(carla.Transform(self.vehicle.get_transform().location + carla.Location(x=0,y=0,z=2),\n",
    "                                    self.vehicle.get_transform().rotation))\n",
    "             \n",
    "        v = self.vehicle.get_velocity()\n",
    "        speed = int(3.6 * math.sqrt(v.x ** 2 + v.y ** 2 + v.z ** 2))\n",
    "        a = self.vehicle.get_transform().rotation.yaw\n",
    "        \n",
    "        return {'image':self.front_camera,'status':np.array([0.01*speed,a/180]).astype('float32')}\n",
    "\n",
    "\n",
    "    def step(self, action):\n",
    "        \n",
    "        done = False\n",
    "        last_tar = self.tar_waypoint\n",
    "        cur_waypoint = self._map.get_waypoint(self.cur_loc, project_to_road=False)\n",
    "        road_id, section_id, lane_id = cur_waypoint.road_id, cur_waypoint.section_id, cur_waypoint.lane_id \n",
    "        if \"%s-%s-%s\" % (road_id, section_id, lane_id) in self.path:\n",
    "            self.tar_waypoint = self.waypoints_info[self.path[self.path.index(\"%s-%s-%s\" % (road_id, section_id, lane_id)) + 1]]\n",
    "        else:\n",
    "            self.tarwaypoint = last_tar\n",
    "            \n",
    "        prev_distance_to_tar = self.tar_dis\n",
    "                   \n",
    "        w1, w2, w3, w4 = 1, 0.005, 0.1, 0.01\n",
    "        speed_limit = 50\n",
    "        if action[0] >= 0:\n",
    "            self.vehicle.apply_control(carla.VehicleControl(throttle = float(action[0]), steer = float(action[1]), brake=0.0))\n",
    "            \n",
    "        else:\n",
    "            self.vehicle.apply_control(carla.VehicleControl(throttle=0.0, steer =float(action[1]), brake= float(action[0])))\n",
    "        self.cur_loc = self.vehicle.get_location()\n",
    "        self.tar_dis = self.tar_waypoint.transform.location.distance(self.cur_loc)\n",
    "        advance = prev_distance_to_tar - self.tar_dis \n",
    "        \n",
    "        v = self.vehicle.get_velocity()\n",
    "        speed = int(3.6 * math.sqrt(v.x ** 2 + v.y ** 2 + v.z ** 2))\n",
    "        \n",
    "        speed_diff = speed_limit - speed\n",
    "        \n",
    "        if self._map.get_waypoint(self.cur_loc, project_to_road=True, lane_type= carla.LaneType.Any) == None:\n",
    "            done = True\n",
    "        else:\n",
    "            closest_waypoint = self._map.get_waypoint(self.cur_loc, project_to_road=True, lane_type= carla.LaneType.Any)\n",
    "            distance_to_center = closest_waypoint.transform.location.distance(self.cur_loc)\n",
    "        \n",
    "        a = self.vehicle.get_transform().rotation.yaw\n",
    "        a_tar = closest_waypoint.transform.rotation.yaw\n",
    "        a_diff = min(abs(a - a_tar), 360 - abs(a - a_tar))\n",
    "        \n",
    "        if speed_diff >=0:\n",
    "            reward = w1*advance + 2*w2*(speed_limit - abs(speed_diff)) + w3*(1-distance_to_center) + w4*(15-a_diff)\n",
    "            \n",
    "        else:\n",
    "            reward = w1*advance + w2*(speed_limit - abs(speed_diff)) + w3*(1-distance_to_center) + w4*(15-a_diff)\n",
    "\n",
    "        if len(self.collision_hist) != 0:\n",
    "            done = True\n",
    "            reward -= 300\n",
    "            \n",
    "        if self.waypoints_info[self.path[-1]].transform.location.distance(self.cur_loc) < 1:\n",
    "            done = True\n",
    "            reward += 1000\n",
    "            \n",
    "        if self.lane == 'Broken':\n",
    "            reward -= 25 \n",
    "            \n",
    "        if len(self.lane_hist) == 2:\n",
    "            reward -= 50\n",
    "            done = True\n",
    "                \n",
    "        if self.lane == 'NONE':\n",
    "            reward -= 100\n",
    "            done = True\n",
    "        # info must be a dictionary\n",
    "        info = {}\n",
    "#        self.n += 1\n",
    "#        print(reward,'\\t',self.n)\n",
    "        return {'image':self.front_camera,'status':np.array([0.01*speed,a/180]).astype('float32')}, reward, done, info"
   ]
  },
  {
   "cell_type": "code",
   "execution_count": 31,
   "id": "823f3111-f5c9-464d-b253-90254f03b150",
   "metadata": {},
   "outputs": [],
   "source": [
    "class CustomCombinedExtractor(BaseFeaturesExtractor):\n",
    "    def __init__(self, observation_space: Dict):        \n",
    "        super(CustomCombinedExtractor, self).__init__(observation_space, features_dim=1)\n",
    "\n",
    "        weights = model.ResNet18_Weights.DEFAULT\n",
    "        self.network = nn.Sequential(*list(model.resnet18(weights= weights).children())[:-1])\n",
    "        self.network1 = nn.Linear(512,2000)\n",
    "        self.status_process = nn.Linear(2, 128)\n",
    "        # Must define this attribute and must use underscore\n",
    "        self._features_dim = 2128\n",
    "           \n",
    "    def forward(self, observations) -> th.Tensor:\n",
    "#        print(observations['image'].shape)\n",
    "        x = self.network(th.Tensor(observations['image']))\n",
    "#        print(x.size())\n",
    "        x = self.network1(x.squeeze())\n",
    "#        print(x.size())\n",
    "        y = self.status_process(th.Tensor(observations['status'])).squeeze()\n",
    "#        print(y.size())\n",
    "        return th.cat((x,y),0)"
   ]
  },
  {
   "cell_type": "code",
   "execution_count": 33,
   "id": "857ba2b4-45df-4db9-8776-48804456111d",
   "metadata": {},
   "outputs": [
    {
     "name": "stdout",
     "output_type": "stream",
     "text": [
      "Using cuda device\n",
      "Wrapping the env in a DummyVecEnv.\n",
      "Wrapping the env in a VecTransposeImage.\n"
     ]
    }
   ],
   "source": [
    "policy_kwargs = dict(\n",
    "    features_extractor_class=CustomCombinedExtractor,\n",
    "    activation_fn=nn.ReLU,\n",
    "    normalize_images=False,\n",
    "    net_arch=[2128, 1024, dict(pi=[512,256,128], vf=[256,64])],\n",
    ")\n",
    "#eval_env = Monitor(CarEnv())\n",
    "env = Monitor(CarEnv())\n",
    "#num_cpu = 2 # Number of processes to use\n",
    "#env= make_vec_env(lambda:env, n_envs=num_cpu,vec_env_cls=SubprocVecEnv)\n",
    "\n",
    "model = PPO(\"MultiInputPolicy\",\n",
    "            env,\n",
    "            policy_kwargs=policy_kwargs,\n",
    "            n_steps=4,\n",
    "            batch_size=4,\n",
    "            verbose=1,\n",
    "            gamma = 0.99,\n",
    "            vf_coef = 0.5,\n",
    "            gae_lambda = 0.95,\n",
    "            learning_rate = 0.0002,\n",
    "            clip_range = 0.2,\n",
    "            device = 'cuda'\n",
    "           )"
   ]
  },
  {
   "cell_type": "code",
   "execution_count": 25,
   "id": "747936a5-1c68-4080-a65e-672347030ba8",
   "metadata": {
    "collapsed": true,
    "jupyter": {
     "outputs_hidden": true
    },
    "tags": []
   },
   "outputs": [
    {
     "ename": "IndexError",
     "evalue": "invalid index to scalar variable.",
     "output_type": "error",
     "traceback": [
      "\u001b[1;31m---------------------------------------------------------------------------\u001b[0m",
      "\u001b[1;31mIndexError\u001b[0m                                Traceback (most recent call last)",
      "Input \u001b[1;32mIn [25]\u001b[0m, in \u001b[0;36m<cell line: 2>\u001b[1;34m()\u001b[0m\n\u001b[0;32m      1\u001b[0m \u001b[38;5;66;03m#eval_env = Monitor(CarEnv())\u001b[39;00m\n\u001b[1;32m----> 2\u001b[0m mean_reward, std_reward \u001b[38;5;241m=\u001b[39m \u001b[43mevaluate_policy\u001b[49m\u001b[43m(\u001b[49m\u001b[43mmodel\u001b[49m\u001b[43m,\u001b[49m\u001b[43m \u001b[49m\u001b[43menv\u001b[49m\u001b[43m,\u001b[49m\u001b[43m \u001b[49m\u001b[43mn_eval_episodes\u001b[49m\u001b[38;5;241;43m=\u001b[39;49m\u001b[38;5;241;43m5\u001b[39;49m\u001b[43m,\u001b[49m\u001b[43m \u001b[49m\u001b[43mdeterministic\u001b[49m\u001b[43m \u001b[49m\u001b[38;5;241;43m=\u001b[39;49m\u001b[43m \u001b[49m\u001b[38;5;28;43;01mFalse\u001b[39;49;00m\u001b[43m)\u001b[49m\n\u001b[0;32m      3\u001b[0m \u001b[38;5;28mprint\u001b[39m(\u001b[38;5;124mf\u001b[39m\u001b[38;5;124m\"\u001b[39m\u001b[38;5;124mmean_reward:\u001b[39m\u001b[38;5;132;01m{\u001b[39;00mmean_reward\u001b[38;5;132;01m:\u001b[39;00m\u001b[38;5;124m.4f\u001b[39m\u001b[38;5;132;01m}\u001b[39;00m\u001b[38;5;124m +/- \u001b[39m\u001b[38;5;132;01m{\u001b[39;00mstd_reward\u001b[38;5;132;01m:\u001b[39;00m\u001b[38;5;124m.4f\u001b[39m\u001b[38;5;132;01m}\u001b[39;00m\u001b[38;5;124m\"\u001b[39m)\n",
      "File \u001b[1;32mD:\\Anaconda3\\envs\\carla\\lib\\site-packages\\stable_baselines3\\common\\evaluation.py:87\u001b[0m, in \u001b[0;36mevaluate_policy\u001b[1;34m(model, env, n_eval_episodes, deterministic, render, callback, reward_threshold, return_episode_rewards, warn)\u001b[0m\n\u001b[0;32m     85\u001b[0m \u001b[38;5;28;01mwhile\u001b[39;00m (episode_counts \u001b[38;5;241m<\u001b[39m episode_count_targets)\u001b[38;5;241m.\u001b[39many():\n\u001b[0;32m     86\u001b[0m     actions, states \u001b[38;5;241m=\u001b[39m model\u001b[38;5;241m.\u001b[39mpredict(observations, state\u001b[38;5;241m=\u001b[39mstates, episode_start\u001b[38;5;241m=\u001b[39mepisode_starts, deterministic\u001b[38;5;241m=\u001b[39mdeterministic)\n\u001b[1;32m---> 87\u001b[0m     observations, rewards, dones, infos \u001b[38;5;241m=\u001b[39m \u001b[43menv\u001b[49m\u001b[38;5;241;43m.\u001b[39;49m\u001b[43mstep\u001b[49m\u001b[43m(\u001b[49m\u001b[43mactions\u001b[49m\u001b[43m)\u001b[49m\n\u001b[0;32m     88\u001b[0m     current_rewards \u001b[38;5;241m+\u001b[39m\u001b[38;5;241m=\u001b[39m rewards\n\u001b[0;32m     89\u001b[0m     current_lengths \u001b[38;5;241m+\u001b[39m\u001b[38;5;241m=\u001b[39m \u001b[38;5;241m1\u001b[39m\n",
      "File \u001b[1;32mD:\\Anaconda3\\envs\\carla\\lib\\site-packages\\stable_baselines3\\common\\vec_env\\base_vec_env.py:162\u001b[0m, in \u001b[0;36mVecEnv.step\u001b[1;34m(self, actions)\u001b[0m\n\u001b[0;32m    155\u001b[0m \u001b[38;5;124;03m\"\"\"\u001b[39;00m\n\u001b[0;32m    156\u001b[0m \u001b[38;5;124;03mStep the environments with the given action\u001b[39;00m\n\u001b[0;32m    157\u001b[0m \n\u001b[0;32m    158\u001b[0m \u001b[38;5;124;03m:param actions: the action\u001b[39;00m\n\u001b[0;32m    159\u001b[0m \u001b[38;5;124;03m:return: observation, reward, done, information\u001b[39;00m\n\u001b[0;32m    160\u001b[0m \u001b[38;5;124;03m\"\"\"\u001b[39;00m\n\u001b[0;32m    161\u001b[0m \u001b[38;5;28mself\u001b[39m\u001b[38;5;241m.\u001b[39mstep_async(actions)\n\u001b[1;32m--> 162\u001b[0m \u001b[38;5;28;01mreturn\u001b[39;00m \u001b[38;5;28;43mself\u001b[39;49m\u001b[38;5;241;43m.\u001b[39;49m\u001b[43mstep_wait\u001b[49m\u001b[43m(\u001b[49m\u001b[43m)\u001b[49m\n",
      "File \u001b[1;32mD:\\Anaconda3\\envs\\carla\\lib\\site-packages\\stable_baselines3\\common\\vec_env\\dummy_vec_env.py:43\u001b[0m, in \u001b[0;36mDummyVecEnv.step_wait\u001b[1;34m(self)\u001b[0m\n\u001b[0;32m     41\u001b[0m \u001b[38;5;28;01mdef\u001b[39;00m \u001b[38;5;21mstep_wait\u001b[39m(\u001b[38;5;28mself\u001b[39m) \u001b[38;5;241m-\u001b[39m\u001b[38;5;241m>\u001b[39m VecEnvStepReturn:\n\u001b[0;32m     42\u001b[0m     \u001b[38;5;28;01mfor\u001b[39;00m env_idx \u001b[38;5;129;01min\u001b[39;00m \u001b[38;5;28mrange\u001b[39m(\u001b[38;5;28mself\u001b[39m\u001b[38;5;241m.\u001b[39mnum_envs):\n\u001b[1;32m---> 43\u001b[0m         obs, \u001b[38;5;28mself\u001b[39m\u001b[38;5;241m.\u001b[39mbuf_rews[env_idx], \u001b[38;5;28mself\u001b[39m\u001b[38;5;241m.\u001b[39mbuf_dones[env_idx], \u001b[38;5;28mself\u001b[39m\u001b[38;5;241m.\u001b[39mbuf_infos[env_idx] \u001b[38;5;241m=\u001b[39m \u001b[38;5;28;43mself\u001b[39;49m\u001b[38;5;241;43m.\u001b[39;49m\u001b[43menvs\u001b[49m\u001b[43m[\u001b[49m\u001b[43menv_idx\u001b[49m\u001b[43m]\u001b[49m\u001b[38;5;241;43m.\u001b[39;49m\u001b[43mstep\u001b[49m\u001b[43m(\u001b[49m\n\u001b[0;32m     44\u001b[0m \u001b[43m            \u001b[49m\u001b[38;5;28;43mself\u001b[39;49m\u001b[38;5;241;43m.\u001b[39;49m\u001b[43mactions\u001b[49m\u001b[43m[\u001b[49m\u001b[43menv_idx\u001b[49m\u001b[43m]\u001b[49m\n\u001b[0;32m     45\u001b[0m \u001b[43m        \u001b[49m\u001b[43m)\u001b[49m\n\u001b[0;32m     46\u001b[0m         \u001b[38;5;28;01mif\u001b[39;00m \u001b[38;5;28mself\u001b[39m\u001b[38;5;241m.\u001b[39mbuf_dones[env_idx]:\n\u001b[0;32m     47\u001b[0m             \u001b[38;5;66;03m# save final observation where user can get it, then reset\u001b[39;00m\n\u001b[0;32m     48\u001b[0m             \u001b[38;5;28mself\u001b[39m\u001b[38;5;241m.\u001b[39mbuf_infos[env_idx][\u001b[38;5;124m\"\u001b[39m\u001b[38;5;124mterminal_observation\u001b[39m\u001b[38;5;124m\"\u001b[39m] \u001b[38;5;241m=\u001b[39m obs\n",
      "File \u001b[1;32mD:\\Anaconda3\\envs\\carla\\lib\\site-packages\\stable_baselines3\\common\\monitor.py:90\u001b[0m, in \u001b[0;36mMonitor.step\u001b[1;34m(self, action)\u001b[0m\n\u001b[0;32m     88\u001b[0m \u001b[38;5;28;01mif\u001b[39;00m \u001b[38;5;28mself\u001b[39m\u001b[38;5;241m.\u001b[39mneeds_reset:\n\u001b[0;32m     89\u001b[0m     \u001b[38;5;28;01mraise\u001b[39;00m \u001b[38;5;167;01mRuntimeError\u001b[39;00m(\u001b[38;5;124m\"\u001b[39m\u001b[38;5;124mTried to step environment that needs reset\u001b[39m\u001b[38;5;124m\"\u001b[39m)\n\u001b[1;32m---> 90\u001b[0m observation, reward, done, info \u001b[38;5;241m=\u001b[39m \u001b[38;5;28;43mself\u001b[39;49m\u001b[38;5;241;43m.\u001b[39;49m\u001b[43menv\u001b[49m\u001b[38;5;241;43m.\u001b[39;49m\u001b[43mstep\u001b[49m\u001b[43m(\u001b[49m\u001b[43maction\u001b[49m\u001b[43m)\u001b[49m\n\u001b[0;32m     91\u001b[0m \u001b[38;5;28mself\u001b[39m\u001b[38;5;241m.\u001b[39mrewards\u001b[38;5;241m.\u001b[39mappend(reward)\n\u001b[0;32m     92\u001b[0m \u001b[38;5;28;01mif\u001b[39;00m done:\n",
      "Input \u001b[1;32mIn [22]\u001b[0m, in \u001b[0;36mCarEnv.step\u001b[1;34m(self, action)\u001b[0m\n\u001b[0;32m    223\u001b[0m w1, w2, w3, w4 \u001b[38;5;241m=\u001b[39m \u001b[38;5;241m1\u001b[39m, \u001b[38;5;241m0.005\u001b[39m, \u001b[38;5;241m0.1\u001b[39m, \u001b[38;5;241m0.01\u001b[39m\n\u001b[0;32m    224\u001b[0m speed_limit \u001b[38;5;241m=\u001b[39m \u001b[38;5;241m50\u001b[39m\n\u001b[1;32m--> 225\u001b[0m \u001b[38;5;28;01mif\u001b[39;00m \u001b[43maction\u001b[49m\u001b[43m[\u001b[49m\u001b[38;5;241;43m0\u001b[39;49m\u001b[43m]\u001b[49m \u001b[38;5;241m>\u001b[39m\u001b[38;5;241m=\u001b[39m \u001b[38;5;241m0\u001b[39m:\n\u001b[0;32m    226\u001b[0m     \u001b[38;5;28mself\u001b[39m\u001b[38;5;241m.\u001b[39mvehicle\u001b[38;5;241m.\u001b[39mapply_control(carla\u001b[38;5;241m.\u001b[39mVehicleControl(throttle \u001b[38;5;241m=\u001b[39m \u001b[38;5;28mfloat\u001b[39m(action[\u001b[38;5;241m0\u001b[39m]), steer \u001b[38;5;241m=\u001b[39m \u001b[38;5;28mfloat\u001b[39m(action[\u001b[38;5;241m1\u001b[39m]), brake\u001b[38;5;241m=\u001b[39m\u001b[38;5;241m0.0\u001b[39m))\n\u001b[0;32m    228\u001b[0m \u001b[38;5;28;01melse\u001b[39;00m:\n",
      "\u001b[1;31mIndexError\u001b[0m: invalid index to scalar variable."
     ]
    }
   ],
   "source": [
    "#eval_env = Monitor(CarEnv())\n",
    "mean_reward, std_reward = evaluate_policy(model, env, n_eval_episodes=5, deterministic = False)\n",
    "print(f\"mean_reward:{mean_reward:.4f} +/- {std_reward:.4f}\")"
   ]
  },
  {
   "cell_type": "code",
   "execution_count": 34,
   "id": "1deb39b4-18e6-4da1-9a45-2d634b43f047",
   "metadata": {},
   "outputs": [
    {
     "ename": "IndexError",
     "evalue": "invalid index to scalar variable.",
     "output_type": "error",
     "traceback": [
      "\u001b[1;31m---------------------------------------------------------------------------\u001b[0m",
      "\u001b[1;31mIndexError\u001b[0m                                Traceback (most recent call last)",
      "Input \u001b[1;32mIn [34]\u001b[0m, in \u001b[0;36m<cell line: 1>\u001b[1;34m()\u001b[0m\n\u001b[1;32m----> 1\u001b[0m \u001b[43mmodel\u001b[49m\u001b[38;5;241;43m.\u001b[39;49m\u001b[43mlearn\u001b[49m\u001b[43m(\u001b[49m\u001b[43mtotal_timesteps\u001b[49m\u001b[38;5;241;43m=\u001b[39;49m\u001b[38;5;241;43m200\u001b[39;49m\u001b[43m)\u001b[49m\n",
      "File \u001b[1;32mD:\\Anaconda3\\envs\\carla\\lib\\site-packages\\stable_baselines3\\ppo\\ppo.py:304\u001b[0m, in \u001b[0;36mPPO.learn\u001b[1;34m(self, total_timesteps, callback, log_interval, eval_env, eval_freq, n_eval_episodes, tb_log_name, eval_log_path, reset_num_timesteps)\u001b[0m\n\u001b[0;32m    291\u001b[0m \u001b[38;5;28;01mdef\u001b[39;00m \u001b[38;5;21mlearn\u001b[39m(\n\u001b[0;32m    292\u001b[0m     \u001b[38;5;28mself\u001b[39m,\n\u001b[0;32m    293\u001b[0m     total_timesteps: \u001b[38;5;28mint\u001b[39m,\n\u001b[1;32m   (...)\u001b[0m\n\u001b[0;32m    301\u001b[0m     reset_num_timesteps: \u001b[38;5;28mbool\u001b[39m \u001b[38;5;241m=\u001b[39m \u001b[38;5;28;01mTrue\u001b[39;00m,\n\u001b[0;32m    302\u001b[0m ) \u001b[38;5;241m-\u001b[39m\u001b[38;5;241m>\u001b[39m \u001b[38;5;124m\"\u001b[39m\u001b[38;5;124mPPO\u001b[39m\u001b[38;5;124m\"\u001b[39m:\n\u001b[1;32m--> 304\u001b[0m     \u001b[38;5;28;01mreturn\u001b[39;00m \u001b[38;5;28;43msuper\u001b[39;49m\u001b[43m(\u001b[49m\u001b[43mPPO\u001b[49m\u001b[43m,\u001b[49m\u001b[43m \u001b[49m\u001b[38;5;28;43mself\u001b[39;49m\u001b[43m)\u001b[49m\u001b[38;5;241;43m.\u001b[39;49m\u001b[43mlearn\u001b[49m\u001b[43m(\u001b[49m\n\u001b[0;32m    305\u001b[0m \u001b[43m        \u001b[49m\u001b[43mtotal_timesteps\u001b[49m\u001b[38;5;241;43m=\u001b[39;49m\u001b[43mtotal_timesteps\u001b[49m\u001b[43m,\u001b[49m\n\u001b[0;32m    306\u001b[0m \u001b[43m        \u001b[49m\u001b[43mcallback\u001b[49m\u001b[38;5;241;43m=\u001b[39;49m\u001b[43mcallback\u001b[49m\u001b[43m,\u001b[49m\n\u001b[0;32m    307\u001b[0m \u001b[43m        \u001b[49m\u001b[43mlog_interval\u001b[49m\u001b[38;5;241;43m=\u001b[39;49m\u001b[43mlog_interval\u001b[49m\u001b[43m,\u001b[49m\n\u001b[0;32m    308\u001b[0m \u001b[43m        \u001b[49m\u001b[43meval_env\u001b[49m\u001b[38;5;241;43m=\u001b[39;49m\u001b[43meval_env\u001b[49m\u001b[43m,\u001b[49m\n\u001b[0;32m    309\u001b[0m \u001b[43m        \u001b[49m\u001b[43meval_freq\u001b[49m\u001b[38;5;241;43m=\u001b[39;49m\u001b[43meval_freq\u001b[49m\u001b[43m,\u001b[49m\n\u001b[0;32m    310\u001b[0m \u001b[43m        \u001b[49m\u001b[43mn_eval_episodes\u001b[49m\u001b[38;5;241;43m=\u001b[39;49m\u001b[43mn_eval_episodes\u001b[49m\u001b[43m,\u001b[49m\n\u001b[0;32m    311\u001b[0m \u001b[43m        \u001b[49m\u001b[43mtb_log_name\u001b[49m\u001b[38;5;241;43m=\u001b[39;49m\u001b[43mtb_log_name\u001b[49m\u001b[43m,\u001b[49m\n\u001b[0;32m    312\u001b[0m \u001b[43m        \u001b[49m\u001b[43meval_log_path\u001b[49m\u001b[38;5;241;43m=\u001b[39;49m\u001b[43meval_log_path\u001b[49m\u001b[43m,\u001b[49m\n\u001b[0;32m    313\u001b[0m \u001b[43m        \u001b[49m\u001b[43mreset_num_timesteps\u001b[49m\u001b[38;5;241;43m=\u001b[39;49m\u001b[43mreset_num_timesteps\u001b[49m\u001b[43m,\u001b[49m\n\u001b[0;32m    314\u001b[0m \u001b[43m    \u001b[49m\u001b[43m)\u001b[49m\n",
      "File \u001b[1;32mD:\\Anaconda3\\envs\\carla\\lib\\site-packages\\stable_baselines3\\common\\on_policy_algorithm.py:250\u001b[0m, in \u001b[0;36mOnPolicyAlgorithm.learn\u001b[1;34m(self, total_timesteps, callback, log_interval, eval_env, eval_freq, n_eval_episodes, tb_log_name, eval_log_path, reset_num_timesteps)\u001b[0m\n\u001b[0;32m    246\u001b[0m callback\u001b[38;5;241m.\u001b[39mon_training_start(\u001b[38;5;28mlocals\u001b[39m(), \u001b[38;5;28mglobals\u001b[39m())\n\u001b[0;32m    248\u001b[0m \u001b[38;5;28;01mwhile\u001b[39;00m \u001b[38;5;28mself\u001b[39m\u001b[38;5;241m.\u001b[39mnum_timesteps \u001b[38;5;241m<\u001b[39m total_timesteps:\n\u001b[1;32m--> 250\u001b[0m     continue_training \u001b[38;5;241m=\u001b[39m \u001b[38;5;28;43mself\u001b[39;49m\u001b[38;5;241;43m.\u001b[39;49m\u001b[43mcollect_rollouts\u001b[49m\u001b[43m(\u001b[49m\u001b[38;5;28;43mself\u001b[39;49m\u001b[38;5;241;43m.\u001b[39;49m\u001b[43menv\u001b[49m\u001b[43m,\u001b[49m\u001b[43m \u001b[49m\u001b[43mcallback\u001b[49m\u001b[43m,\u001b[49m\u001b[43m \u001b[49m\u001b[38;5;28;43mself\u001b[39;49m\u001b[38;5;241;43m.\u001b[39;49m\u001b[43mrollout_buffer\u001b[49m\u001b[43m,\u001b[49m\u001b[43m \u001b[49m\u001b[43mn_rollout_steps\u001b[49m\u001b[38;5;241;43m=\u001b[39;49m\u001b[38;5;28;43mself\u001b[39;49m\u001b[38;5;241;43m.\u001b[39;49m\u001b[43mn_steps\u001b[49m\u001b[43m)\u001b[49m\n\u001b[0;32m    252\u001b[0m     \u001b[38;5;28;01mif\u001b[39;00m continue_training \u001b[38;5;129;01mis\u001b[39;00m \u001b[38;5;28;01mFalse\u001b[39;00m:\n\u001b[0;32m    253\u001b[0m         \u001b[38;5;28;01mbreak\u001b[39;00m\n",
      "File \u001b[1;32mD:\\Anaconda3\\envs\\carla\\lib\\site-packages\\stable_baselines3\\common\\on_policy_algorithm.py:178\u001b[0m, in \u001b[0;36mOnPolicyAlgorithm.collect_rollouts\u001b[1;34m(self, env, callback, rollout_buffer, n_rollout_steps)\u001b[0m\n\u001b[0;32m    175\u001b[0m \u001b[38;5;28;01mif\u001b[39;00m \u001b[38;5;28misinstance\u001b[39m(\u001b[38;5;28mself\u001b[39m\u001b[38;5;241m.\u001b[39maction_space, gym\u001b[38;5;241m.\u001b[39mspaces\u001b[38;5;241m.\u001b[39mBox):\n\u001b[0;32m    176\u001b[0m     clipped_actions \u001b[38;5;241m=\u001b[39m np\u001b[38;5;241m.\u001b[39mclip(actions, \u001b[38;5;28mself\u001b[39m\u001b[38;5;241m.\u001b[39maction_space\u001b[38;5;241m.\u001b[39mlow, \u001b[38;5;28mself\u001b[39m\u001b[38;5;241m.\u001b[39maction_space\u001b[38;5;241m.\u001b[39mhigh)\n\u001b[1;32m--> 178\u001b[0m new_obs, rewards, dones, infos \u001b[38;5;241m=\u001b[39m \u001b[43menv\u001b[49m\u001b[38;5;241;43m.\u001b[39;49m\u001b[43mstep\u001b[49m\u001b[43m(\u001b[49m\u001b[43mclipped_actions\u001b[49m\u001b[43m)\u001b[49m\n\u001b[0;32m    180\u001b[0m \u001b[38;5;28mself\u001b[39m\u001b[38;5;241m.\u001b[39mnum_timesteps \u001b[38;5;241m+\u001b[39m\u001b[38;5;241m=\u001b[39m env\u001b[38;5;241m.\u001b[39mnum_envs\n\u001b[0;32m    182\u001b[0m \u001b[38;5;66;03m# Give access to local variables\u001b[39;00m\n",
      "File \u001b[1;32mD:\\Anaconda3\\envs\\carla\\lib\\site-packages\\stable_baselines3\\common\\vec_env\\base_vec_env.py:162\u001b[0m, in \u001b[0;36mVecEnv.step\u001b[1;34m(self, actions)\u001b[0m\n\u001b[0;32m    155\u001b[0m \u001b[38;5;124;03m\"\"\"\u001b[39;00m\n\u001b[0;32m    156\u001b[0m \u001b[38;5;124;03mStep the environments with the given action\u001b[39;00m\n\u001b[0;32m    157\u001b[0m \n\u001b[0;32m    158\u001b[0m \u001b[38;5;124;03m:param actions: the action\u001b[39;00m\n\u001b[0;32m    159\u001b[0m \u001b[38;5;124;03m:return: observation, reward, done, information\u001b[39;00m\n\u001b[0;32m    160\u001b[0m \u001b[38;5;124;03m\"\"\"\u001b[39;00m\n\u001b[0;32m    161\u001b[0m \u001b[38;5;28mself\u001b[39m\u001b[38;5;241m.\u001b[39mstep_async(actions)\n\u001b[1;32m--> 162\u001b[0m \u001b[38;5;28;01mreturn\u001b[39;00m \u001b[38;5;28;43mself\u001b[39;49m\u001b[38;5;241;43m.\u001b[39;49m\u001b[43mstep_wait\u001b[49m\u001b[43m(\u001b[49m\u001b[43m)\u001b[49m\n",
      "File \u001b[1;32mD:\\Anaconda3\\envs\\carla\\lib\\site-packages\\stable_baselines3\\common\\vec_env\\vec_transpose.py:95\u001b[0m, in \u001b[0;36mVecTransposeImage.step_wait\u001b[1;34m(self)\u001b[0m\n\u001b[0;32m     94\u001b[0m \u001b[38;5;28;01mdef\u001b[39;00m \u001b[38;5;21mstep_wait\u001b[39m(\u001b[38;5;28mself\u001b[39m) \u001b[38;5;241m-\u001b[39m\u001b[38;5;241m>\u001b[39m VecEnvStepReturn:\n\u001b[1;32m---> 95\u001b[0m     observations, rewards, dones, infos \u001b[38;5;241m=\u001b[39m \u001b[38;5;28;43mself\u001b[39;49m\u001b[38;5;241;43m.\u001b[39;49m\u001b[43mvenv\u001b[49m\u001b[38;5;241;43m.\u001b[39;49m\u001b[43mstep_wait\u001b[49m\u001b[43m(\u001b[49m\u001b[43m)\u001b[49m\n\u001b[0;32m     97\u001b[0m     \u001b[38;5;66;03m# Transpose the terminal observations\u001b[39;00m\n\u001b[0;32m     98\u001b[0m     \u001b[38;5;28;01mfor\u001b[39;00m idx, done \u001b[38;5;129;01min\u001b[39;00m \u001b[38;5;28menumerate\u001b[39m(dones):\n",
      "File \u001b[1;32mD:\\Anaconda3\\envs\\carla\\lib\\site-packages\\stable_baselines3\\common\\vec_env\\dummy_vec_env.py:43\u001b[0m, in \u001b[0;36mDummyVecEnv.step_wait\u001b[1;34m(self)\u001b[0m\n\u001b[0;32m     41\u001b[0m \u001b[38;5;28;01mdef\u001b[39;00m \u001b[38;5;21mstep_wait\u001b[39m(\u001b[38;5;28mself\u001b[39m) \u001b[38;5;241m-\u001b[39m\u001b[38;5;241m>\u001b[39m VecEnvStepReturn:\n\u001b[0;32m     42\u001b[0m     \u001b[38;5;28;01mfor\u001b[39;00m env_idx \u001b[38;5;129;01min\u001b[39;00m \u001b[38;5;28mrange\u001b[39m(\u001b[38;5;28mself\u001b[39m\u001b[38;5;241m.\u001b[39mnum_envs):\n\u001b[1;32m---> 43\u001b[0m         obs, \u001b[38;5;28mself\u001b[39m\u001b[38;5;241m.\u001b[39mbuf_rews[env_idx], \u001b[38;5;28mself\u001b[39m\u001b[38;5;241m.\u001b[39mbuf_dones[env_idx], \u001b[38;5;28mself\u001b[39m\u001b[38;5;241m.\u001b[39mbuf_infos[env_idx] \u001b[38;5;241m=\u001b[39m \u001b[38;5;28;43mself\u001b[39;49m\u001b[38;5;241;43m.\u001b[39;49m\u001b[43menvs\u001b[49m\u001b[43m[\u001b[49m\u001b[43menv_idx\u001b[49m\u001b[43m]\u001b[49m\u001b[38;5;241;43m.\u001b[39;49m\u001b[43mstep\u001b[49m\u001b[43m(\u001b[49m\n\u001b[0;32m     44\u001b[0m \u001b[43m            \u001b[49m\u001b[38;5;28;43mself\u001b[39;49m\u001b[38;5;241;43m.\u001b[39;49m\u001b[43mactions\u001b[49m\u001b[43m[\u001b[49m\u001b[43menv_idx\u001b[49m\u001b[43m]\u001b[49m\n\u001b[0;32m     45\u001b[0m \u001b[43m        \u001b[49m\u001b[43m)\u001b[49m\n\u001b[0;32m     46\u001b[0m         \u001b[38;5;28;01mif\u001b[39;00m \u001b[38;5;28mself\u001b[39m\u001b[38;5;241m.\u001b[39mbuf_dones[env_idx]:\n\u001b[0;32m     47\u001b[0m             \u001b[38;5;66;03m# save final observation where user can get it, then reset\u001b[39;00m\n\u001b[0;32m     48\u001b[0m             \u001b[38;5;28mself\u001b[39m\u001b[38;5;241m.\u001b[39mbuf_infos[env_idx][\u001b[38;5;124m\"\u001b[39m\u001b[38;5;124mterminal_observation\u001b[39m\u001b[38;5;124m\"\u001b[39m] \u001b[38;5;241m=\u001b[39m obs\n",
      "File \u001b[1;32mD:\\Anaconda3\\envs\\carla\\lib\\site-packages\\stable_baselines3\\common\\monitor.py:90\u001b[0m, in \u001b[0;36mMonitor.step\u001b[1;34m(self, action)\u001b[0m\n\u001b[0;32m     88\u001b[0m \u001b[38;5;28;01mif\u001b[39;00m \u001b[38;5;28mself\u001b[39m\u001b[38;5;241m.\u001b[39mneeds_reset:\n\u001b[0;32m     89\u001b[0m     \u001b[38;5;28;01mraise\u001b[39;00m \u001b[38;5;167;01mRuntimeError\u001b[39;00m(\u001b[38;5;124m\"\u001b[39m\u001b[38;5;124mTried to step environment that needs reset\u001b[39m\u001b[38;5;124m\"\u001b[39m)\n\u001b[1;32m---> 90\u001b[0m observation, reward, done, info \u001b[38;5;241m=\u001b[39m \u001b[38;5;28;43mself\u001b[39;49m\u001b[38;5;241;43m.\u001b[39;49m\u001b[43menv\u001b[49m\u001b[38;5;241;43m.\u001b[39;49m\u001b[43mstep\u001b[49m\u001b[43m(\u001b[49m\u001b[43maction\u001b[49m\u001b[43m)\u001b[49m\n\u001b[0;32m     91\u001b[0m \u001b[38;5;28mself\u001b[39m\u001b[38;5;241m.\u001b[39mrewards\u001b[38;5;241m.\u001b[39mappend(reward)\n\u001b[0;32m     92\u001b[0m \u001b[38;5;28;01mif\u001b[39;00m done:\n",
      "Input \u001b[1;32mIn [30]\u001b[0m, in \u001b[0;36mCarEnv.step\u001b[1;34m(self, action)\u001b[0m\n\u001b[0;32m    223\u001b[0m w1, w2, w3, w4 \u001b[38;5;241m=\u001b[39m \u001b[38;5;241m1\u001b[39m, \u001b[38;5;241m0.005\u001b[39m, \u001b[38;5;241m0.1\u001b[39m, \u001b[38;5;241m0.01\u001b[39m\n\u001b[0;32m    224\u001b[0m speed_limit \u001b[38;5;241m=\u001b[39m \u001b[38;5;241m50\u001b[39m\n\u001b[1;32m--> 225\u001b[0m \u001b[38;5;28;01mif\u001b[39;00m \u001b[43maction\u001b[49m\u001b[43m[\u001b[49m\u001b[38;5;241;43m0\u001b[39;49m\u001b[43m]\u001b[49m \u001b[38;5;241m>\u001b[39m\u001b[38;5;241m=\u001b[39m \u001b[38;5;241m0\u001b[39m:\n\u001b[0;32m    226\u001b[0m     \u001b[38;5;28mself\u001b[39m\u001b[38;5;241m.\u001b[39mvehicle\u001b[38;5;241m.\u001b[39mapply_control(carla\u001b[38;5;241m.\u001b[39mVehicleControl(throttle \u001b[38;5;241m=\u001b[39m \u001b[38;5;28mfloat\u001b[39m(action[\u001b[38;5;241m0\u001b[39m]), steer \u001b[38;5;241m=\u001b[39m \u001b[38;5;28mfloat\u001b[39m(action[\u001b[38;5;241m1\u001b[39m]), brake\u001b[38;5;241m=\u001b[39m\u001b[38;5;241m0.0\u001b[39m))\n\u001b[0;32m    228\u001b[0m \u001b[38;5;28;01melse\u001b[39;00m:\n",
      "\u001b[1;31mIndexError\u001b[0m: invalid index to scalar variable."
     ]
    }
   ],
   "source": [
    "model.learn(total_timesteps=200)"
   ]
  },
  {
   "cell_type": "code",
   "execution_count": 33,
   "id": "793fbaf8-181b-47e2-986c-f3895b5474a4",
   "metadata": {
    "tags": []
   },
   "outputs": [
    {
     "name": "stdout",
     "output_type": "stream",
     "text": [
      "-43.5860018 \t 2.853993863819641\n"
     ]
    }
   ],
   "source": [
    "mean_reward, std_reward = evaluate_policy(model, eval_env, n_eval_episodes=5, deterministic = True)\n",
    "print(f\"mean_reward:{mean_reward:.4f} +/- {std_reward:.4f}\")"
   ]
  },
  {
   "cell_type": "code",
   "execution_count": 24,
   "id": "4437f34f-ccaa-4db0-8ee7-1ba1d1e0d344",
   "metadata": {},
   "outputs": [
    {
     "data": {
      "text/plain": [
       "-93.4587904"
      ]
     },
     "execution_count": 24,
     "metadata": {},
     "output_type": "execute_result"
    }
   ],
   "source": [
    "mean_reward"
   ]
  },
  {
   "cell_type": "code",
   "execution_count": 25,
   "id": "2207887e-8d10-4360-acf4-ec8d17ef8e74",
   "metadata": {},
   "outputs": [
    {
     "data": {
      "text/plain": [
       "0.9571788366236669"
      ]
     },
     "execution_count": 25,
     "metadata": {},
     "output_type": "execute_result"
    }
   ],
   "source": [
    "std_reward"
   ]
  },
  {
   "cell_type": "code",
   "execution_count": 28,
   "id": "7aed32a7-ae20-4791-8c5d-d1c83b8c28ea",
   "metadata": {},
   "outputs": [],
   "source": [
    "env = CarEnv()"
   ]
  },
  {
   "cell_type": "code",
   "execution_count": 9,
   "id": "40f3adc0-12b6-4c82-a0fe-da7cdaef4fd5",
   "metadata": {},
   "outputs": [],
   "source": [
    "check_env(env)"
   ]
  },
  {
   "cell_type": "code",
   "execution_count": 148,
   "id": "8d6d3a3c-8820-4af5-b56b-14064d3b5fe1",
   "metadata": {
    "tags": []
   },
   "outputs": [
    {
     "data": {
      "text/plain": [
       "{'image': array([[[115, 110, 110],\n",
       "         [115, 110, 110],\n",
       "         [114, 110, 110],\n",
       "         ...,\n",
       "         [125, 121, 121],\n",
       "         [125, 121, 121],\n",
       "         [126, 121, 121]],\n",
       " \n",
       "        [[125, 121, 121],\n",
       "         [126, 121, 121],\n",
       "         [126, 121, 121],\n",
       "         ...,\n",
       "         [120, 115, 115],\n",
       "         [119, 114, 115],\n",
       "         [119, 115, 114]],\n",
       " \n",
       "        [[119, 115, 115],\n",
       "         [120, 117, 117],\n",
       "         [120, 117, 117],\n",
       "         ...,\n",
       "         [120, 117, 117],\n",
       "         [120, 117, 117],\n",
       "         [120, 117, 115]],\n",
       " \n",
       "        ...,\n",
       " \n",
       "        [[ 99,  98, 102],\n",
       "         [ 99,  99, 104],\n",
       "         [ 99, 101, 104],\n",
       "         ...,\n",
       "         [ 46,  46,  50],\n",
       "         [ 42,  42,  50],\n",
       "         [ 42,  42,  46]],\n",
       " \n",
       "        [[ 42,  42,  50],\n",
       "         [ 38,  42,  46],\n",
       "         [ 38,  38,  46],\n",
       "         ...,\n",
       "         [ 95,  90,  90],\n",
       "         [ 96,  90,  90],\n",
       "         [ 96,  91,  91]],\n",
       " \n",
       "        [[ 96,  91,  91],\n",
       "         [ 96,  91,  91],\n",
       "         [ 96,  91,  91],\n",
       "         ...,\n",
       "         [ 71,  69,  71],\n",
       "         [ 71,  69,  73],\n",
       "         [ 69,  66,  71]]], dtype=uint8),\n",
       " 'status': array([0.05, 0.  ], dtype=float32)}"
      ]
     },
     "execution_count": 148,
     "metadata": {},
     "output_type": "execute_result"
    }
   ],
   "source": [
    "env.reset()"
   ]
  },
  {
   "cell_type": "code",
   "execution_count": 153,
   "id": "3fb2824d-5a43-4d71-986c-a5b3777b54d1",
   "metadata": {},
   "outputs": [
    {
     "data": {
      "text/plain": [
       "1"
      ]
     },
     "execution_count": 153,
     "metadata": {},
     "output_type": "execute_result"
    }
   ],
   "source": [
    "env._map.get_waypoint(env.cur_loc, project_to_road=False).lane_id"
   ]
  },
  {
   "cell_type": "code",
   "execution_count": 29,
   "id": "7dd63515-eab3-4705-b12a-86761959a348",
   "metadata": {
    "tags": []
   },
   "outputs": [
    {
     "data": {
      "text/plain": [
       "({'image': array([[[121, 117, 117],\n",
       "          [121, 117, 117],\n",
       "          [121, 117, 117],\n",
       "          ...,\n",
       "          [ 13,  22,  13],\n",
       "          [ 13,  13,  13],\n",
       "          [ 13,  22,  13]],\n",
       "  \n",
       "         [[121, 117, 117],\n",
       "          [121, 118, 118],\n",
       "          [122, 118, 118],\n",
       "          ...,\n",
       "          [ 13,  22,  13],\n",
       "          [  0,  13,   0],\n",
       "          [ 13,  22,  13]],\n",
       "  \n",
       "         [[121, 118, 118],\n",
       "          [122, 118, 118],\n",
       "          [122, 118, 118],\n",
       "          ...,\n",
       "          [ 13,  22,  13],\n",
       "          [ 13,  22,  13],\n",
       "          [ 13,  22,  13]],\n",
       "  \n",
       "         ...,\n",
       "  \n",
       "         [[ 99,  93,  93],\n",
       "          [ 96,  91,  91],\n",
       "          [ 59,  53,  53],\n",
       "          ...,\n",
       "          [ 73,  69,  69],\n",
       "          [ 75,  71,  71],\n",
       "          [ 75,  71,  71]],\n",
       "  \n",
       "         [[ 90,  86,  86],\n",
       "          [ 53,  50,  50],\n",
       "          [  0,   0,   0],\n",
       "          ...,\n",
       "          [ 34,  28,  28],\n",
       "          [ 73,  69,  69],\n",
       "          [ 75,  71,  71]],\n",
       "  \n",
       "         [[ 38,  34,  34],\n",
       "          [ 13,   0,  13],\n",
       "          [  0,   0,   0],\n",
       "          ...,\n",
       "          [  0,   0,   0],\n",
       "          [ 13,  13,  13],\n",
       "          [ 73,  69,  69]]], dtype=uint8),\n",
       "  'status': array([0., 0.], dtype=float32)},\n",
       " 0.22701633214950562,\n",
       " False,\n",
       " {})"
      ]
     },
     "execution_count": 29,
     "metadata": {},
     "output_type": "execute_result"
    }
   ],
   "source": [
    "action = np.array([0.5,0.5]).astype('float32')\n",
    "env.step(action)"
   ]
  },
  {
   "cell_type": "code",
   "execution_count": 154,
   "id": "1e21d337-0803-4255-9a0f-a69cafea818f",
   "metadata": {},
   "outputs": [
    {
     "name": "stdout",
     "output_type": "stream",
     "text": [
      "['/Game/Carla/Maps/Town01', '/Game/Carla/Maps/Town01_Opt', '/Game/Carla/Maps/Town02', '/Game/Carla/Maps/Town02_Opt', '/Game/Carla/Maps/Town03', '/Game/Carla/Maps/Town03_Opt', '/Game/Carla/Maps/Town04', '/Game/Carla/Maps/Town04_Opt', '/Game/Carla/Maps/Town05', '/Game/Carla/Maps/Town05_Opt', '/Game/Carla/Maps/Town10HD', '/Game/Carla/Maps/Town10HD_Opt']\n"
     ]
    }
   ],
   "source": [
    "client = carla.Client('localhost', 2000)\n",
    "# Set timeout to limit the networking operations so that the these don't block the client forever.\n",
    "# An error will be returned if connection fails.\n",
    "client.set_timeout(10.0)\n",
    "# Available maps are Town 01,02,03,04,05,06,07,10\n",
    "#    world = client.get_world()\n",
    "print(client.get_available_maps())\n",
    "#    world = client.get_world()\n",
    "world = client.load_world('Town01')"
   ]
  },
  {
   "cell_type": "code",
   "execution_count": 155,
   "id": "2d658be4-c8ef-4e75-b31f-500b019566d3",
   "metadata": {},
   "outputs": [],
   "source": [
    "for i in range(len(env.path)):\n",
    "    _waypoint = env.waypoints_info[env.path[i]]\n",
    "    world.debug.draw_string(_waypoint.transform.location, '%s-%s-%s' % (_waypoint.road_id,_waypoint.section_id, _waypoint.lane_id), \n",
    "                            draw_shadow=False, color=carla.Color(r=255, g=0, b=0), life_time=100.0)\n",
    "    time.sleep(3)\n",
    "    \n",
    "world.debug.draw_string(env._map.get_waypoint(env.cur_loc, project_to_road=False).transform.location, \n",
    "                        '%s-%s-%s' % (env._map.get_waypoint(env.cur_loc, project_to_road=False).road_id,\n",
    "                                      env._map.get_waypoint(env.cur_loc, project_to_road=False).section_id,\n",
    "                                      env._map.get_waypoint(env.cur_loc, project_to_road=False).lane_id), draw_shadow=False,\n",
    "                                    color=carla.Color(r=255, g=0, b=0), life_time=100.0)\n",
    "\n",
    "time.sleep(5)"
   ]
  },
  {
   "cell_type": "code",
   "execution_count": 3,
   "id": "58fd9810-ef94-4f70-8d49-53eb1379c15c",
   "metadata": {},
   "outputs": [],
   "source": [
    "import torchvision.models as models"
   ]
  },
  {
   "cell_type": "code",
   "execution_count": 6,
   "id": "2ff99fe4-17a0-4191-af4f-c4cd8df4bc4b",
   "metadata": {},
   "outputs": [],
   "source": [
    "import torch"
   ]
  },
  {
   "cell_type": "code",
   "execution_count": 8,
   "id": "c9e451ba-13a3-41a9-a1af-d5a11097971b",
   "metadata": {},
   "outputs": [
    {
     "data": {
      "text/plain": [
       "'1.12.0'"
      ]
     },
     "execution_count": 8,
     "metadata": {},
     "output_type": "execute_result"
    }
   ],
   "source": [
    "torch.__version__"
   ]
  },
  {
   "cell_type": "code",
   "execution_count": 4,
   "id": "2483801d-454f-4eda-ab37-c7e0dd99b688",
   "metadata": {},
   "outputs": [],
   "source": [
    "model = models.resnet18()"
   ]
  },
  {
   "cell_type": "code",
   "execution_count": 5,
   "id": "a3e27b83-c993-4246-af74-4a1689217719",
   "metadata": {},
   "outputs": [
    {
     "name": "stdout",
     "output_type": "stream",
     "text": [
      "ResNet(\n",
      "  (conv1): Conv2d(3, 64, kernel_size=(7, 7), stride=(2, 2), padding=(3, 3), bias=False)\n",
      "  (bn1): BatchNorm2d(64, eps=1e-05, momentum=0.1, affine=True, track_running_stats=True)\n",
      "  (relu): ReLU(inplace=True)\n",
      "  (maxpool): MaxPool2d(kernel_size=3, stride=2, padding=1, dilation=1, ceil_mode=False)\n",
      "  (layer1): Sequential(\n",
      "    (0): BasicBlock(\n",
      "      (conv1): Conv2d(64, 64, kernel_size=(3, 3), stride=(1, 1), padding=(1, 1), bias=False)\n",
      "      (bn1): BatchNorm2d(64, eps=1e-05, momentum=0.1, affine=True, track_running_stats=True)\n",
      "      (relu): ReLU(inplace=True)\n",
      "      (conv2): Conv2d(64, 64, kernel_size=(3, 3), stride=(1, 1), padding=(1, 1), bias=False)\n",
      "      (bn2): BatchNorm2d(64, eps=1e-05, momentum=0.1, affine=True, track_running_stats=True)\n",
      "    )\n",
      "    (1): BasicBlock(\n",
      "      (conv1): Conv2d(64, 64, kernel_size=(3, 3), stride=(1, 1), padding=(1, 1), bias=False)\n",
      "      (bn1): BatchNorm2d(64, eps=1e-05, momentum=0.1, affine=True, track_running_stats=True)\n",
      "      (relu): ReLU(inplace=True)\n",
      "      (conv2): Conv2d(64, 64, kernel_size=(3, 3), stride=(1, 1), padding=(1, 1), bias=False)\n",
      "      (bn2): BatchNorm2d(64, eps=1e-05, momentum=0.1, affine=True, track_running_stats=True)\n",
      "    )\n",
      "  )\n",
      "  (layer2): Sequential(\n",
      "    (0): BasicBlock(\n",
      "      (conv1): Conv2d(64, 128, kernel_size=(3, 3), stride=(2, 2), padding=(1, 1), bias=False)\n",
      "      (bn1): BatchNorm2d(128, eps=1e-05, momentum=0.1, affine=True, track_running_stats=True)\n",
      "      (relu): ReLU(inplace=True)\n",
      "      (conv2): Conv2d(128, 128, kernel_size=(3, 3), stride=(1, 1), padding=(1, 1), bias=False)\n",
      "      (bn2): BatchNorm2d(128, eps=1e-05, momentum=0.1, affine=True, track_running_stats=True)\n",
      "      (downsample): Sequential(\n",
      "        (0): Conv2d(64, 128, kernel_size=(1, 1), stride=(2, 2), bias=False)\n",
      "        (1): BatchNorm2d(128, eps=1e-05, momentum=0.1, affine=True, track_running_stats=True)\n",
      "      )\n",
      "    )\n",
      "    (1): BasicBlock(\n",
      "      (conv1): Conv2d(128, 128, kernel_size=(3, 3), stride=(1, 1), padding=(1, 1), bias=False)\n",
      "      (bn1): BatchNorm2d(128, eps=1e-05, momentum=0.1, affine=True, track_running_stats=True)\n",
      "      (relu): ReLU(inplace=True)\n",
      "      (conv2): Conv2d(128, 128, kernel_size=(3, 3), stride=(1, 1), padding=(1, 1), bias=False)\n",
      "      (bn2): BatchNorm2d(128, eps=1e-05, momentum=0.1, affine=True, track_running_stats=True)\n",
      "    )\n",
      "  )\n",
      "  (layer3): Sequential(\n",
      "    (0): BasicBlock(\n",
      "      (conv1): Conv2d(128, 256, kernel_size=(3, 3), stride=(2, 2), padding=(1, 1), bias=False)\n",
      "      (bn1): BatchNorm2d(256, eps=1e-05, momentum=0.1, affine=True, track_running_stats=True)\n",
      "      (relu): ReLU(inplace=True)\n",
      "      (conv2): Conv2d(256, 256, kernel_size=(3, 3), stride=(1, 1), padding=(1, 1), bias=False)\n",
      "      (bn2): BatchNorm2d(256, eps=1e-05, momentum=0.1, affine=True, track_running_stats=True)\n",
      "      (downsample): Sequential(\n",
      "        (0): Conv2d(128, 256, kernel_size=(1, 1), stride=(2, 2), bias=False)\n",
      "        (1): BatchNorm2d(256, eps=1e-05, momentum=0.1, affine=True, track_running_stats=True)\n",
      "      )\n",
      "    )\n",
      "    (1): BasicBlock(\n",
      "      (conv1): Conv2d(256, 256, kernel_size=(3, 3), stride=(1, 1), padding=(1, 1), bias=False)\n",
      "      (bn1): BatchNorm2d(256, eps=1e-05, momentum=0.1, affine=True, track_running_stats=True)\n",
      "      (relu): ReLU(inplace=True)\n",
      "      (conv2): Conv2d(256, 256, kernel_size=(3, 3), stride=(1, 1), padding=(1, 1), bias=False)\n",
      "      (bn2): BatchNorm2d(256, eps=1e-05, momentum=0.1, affine=True, track_running_stats=True)\n",
      "    )\n",
      "  )\n",
      "  (layer4): Sequential(\n",
      "    (0): BasicBlock(\n",
      "      (conv1): Conv2d(256, 512, kernel_size=(3, 3), stride=(2, 2), padding=(1, 1), bias=False)\n",
      "      (bn1): BatchNorm2d(512, eps=1e-05, momentum=0.1, affine=True, track_running_stats=True)\n",
      "      (relu): ReLU(inplace=True)\n",
      "      (conv2): Conv2d(512, 512, kernel_size=(3, 3), stride=(1, 1), padding=(1, 1), bias=False)\n",
      "      (bn2): BatchNorm2d(512, eps=1e-05, momentum=0.1, affine=True, track_running_stats=True)\n",
      "      (downsample): Sequential(\n",
      "        (0): Conv2d(256, 512, kernel_size=(1, 1), stride=(2, 2), bias=False)\n",
      "        (1): BatchNorm2d(512, eps=1e-05, momentum=0.1, affine=True, track_running_stats=True)\n",
      "      )\n",
      "    )\n",
      "    (1): BasicBlock(\n",
      "      (conv1): Conv2d(512, 512, kernel_size=(3, 3), stride=(1, 1), padding=(1, 1), bias=False)\n",
      "      (bn1): BatchNorm2d(512, eps=1e-05, momentum=0.1, affine=True, track_running_stats=True)\n",
      "      (relu): ReLU(inplace=True)\n",
      "      (conv2): Conv2d(512, 512, kernel_size=(3, 3), stride=(1, 1), padding=(1, 1), bias=False)\n",
      "      (bn2): BatchNorm2d(512, eps=1e-05, momentum=0.1, affine=True, track_running_stats=True)\n",
      "    )\n",
      "  )\n",
      "  (avgpool): AdaptiveAvgPool2d(output_size=(1, 1))\n",
      "  (fc): Linear(in_features=512, out_features=1000, bias=True)\n",
      ")\n"
     ]
    }
   ],
   "source": [
    "print(model)"
   ]
  },
  {
   "cell_type": "code",
   "execution_count": null,
   "id": "1087c4a2-0760-46d4-b707-c59d2db087c4",
   "metadata": {},
   "outputs": [],
   "source": []
  }
 ],
 "metadata": {
  "kernelspec": {
   "display_name": "carla",
   "language": "python",
   "name": "carla"
  },
  "language_info": {
   "codemirror_mode": {
    "name": "ipython",
    "version": 3
   },
   "file_extension": ".py",
   "mimetype": "text/x-python",
   "name": "python",
   "nbconvert_exporter": "python",
   "pygments_lexer": "ipython3",
   "version": "3.8.13"
  }
 },
 "nbformat": 4,
 "nbformat_minor": 5
}
